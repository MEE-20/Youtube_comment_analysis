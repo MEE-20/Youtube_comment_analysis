{
 "cells": [
  {
   "cell_type": "code",
   "execution_count": 34,
   "metadata": {},
   "outputs": [],
   "source": [
    "import pandas as pd\n",
    "import numpy as np\n",
    "import matplotlib.pyplot as plt\n",
    "import seaborn as sns\n",
    "from pathlib import Path\n",
    "import nltk\n",
    "from sklearn.metrics import accuracy_score, f1_score, precision_score, recall_score\n",
    "from sklearn.model_selection import train_test_split\n",
    "import re, string"
   ]
  },
  {
   "cell_type": "code",
   "execution_count": 35,
   "metadata": {},
   "outputs": [],
   "source": [
    "# Configure pandas display options\n",
    "pd.set_option('display.max_columns', None)\n",
    "pd.set_option('display.max_rows', 100)"
   ]
  },
  {
   "cell_type": "code",
   "execution_count": 36,
   "metadata": {},
   "outputs": [],
   "source": [
    "# Project root directory\n",
    "DATASETS_DIR = Path('../datasets/raw/toxic_comment_data')"
   ]
  },
  {
   "cell_type": "code",
   "execution_count": 37,
   "metadata": {},
   "outputs": [],
   "source": [
    "# Read toxic comment datasets\n",
    "train_df = pd.read_csv(DATASETS_DIR / 'train.csv')\n",
    "test_df = pd.read_csv(DATASETS_DIR / 'test.csv')\n",
    "test_labels_df = pd.read_csv(DATASETS_DIR / 'test_labels.csv')"
   ]
  },
  {
   "cell_type": "code",
   "execution_count": 38,
   "metadata": {},
   "outputs": [
    {
     "data": {
      "text/html": [
       "<div>\n",
       "<style scoped>\n",
       "    .dataframe tbody tr th:only-of-type {\n",
       "        vertical-align: middle;\n",
       "    }\n",
       "\n",
       "    .dataframe tbody tr th {\n",
       "        vertical-align: top;\n",
       "    }\n",
       "\n",
       "    .dataframe thead th {\n",
       "        text-align: right;\n",
       "    }\n",
       "</style>\n",
       "<table border=\"1\" class=\"dataframe\">\n",
       "  <thead>\n",
       "    <tr style=\"text-align: right;\">\n",
       "      <th></th>\n",
       "      <th>toxic</th>\n",
       "      <th>severe_toxic</th>\n",
       "      <th>obscene</th>\n",
       "      <th>threat</th>\n",
       "      <th>insult</th>\n",
       "      <th>identity_hate</th>\n",
       "      <th>none</th>\n",
       "    </tr>\n",
       "  </thead>\n",
       "  <tbody>\n",
       "    <tr>\n",
       "      <th>count</th>\n",
       "      <td>159571.000000</td>\n",
       "      <td>159571.000000</td>\n",
       "      <td>159571.000000</td>\n",
       "      <td>159571.000000</td>\n",
       "      <td>159571.000000</td>\n",
       "      <td>159571.000000</td>\n",
       "      <td>159571.000000</td>\n",
       "    </tr>\n",
       "    <tr>\n",
       "      <th>mean</th>\n",
       "      <td>0.095844</td>\n",
       "      <td>0.009996</td>\n",
       "      <td>0.052948</td>\n",
       "      <td>0.002996</td>\n",
       "      <td>0.049364</td>\n",
       "      <td>0.008805</td>\n",
       "      <td>0.898321</td>\n",
       "    </tr>\n",
       "    <tr>\n",
       "      <th>std</th>\n",
       "      <td>0.294379</td>\n",
       "      <td>0.099477</td>\n",
       "      <td>0.223931</td>\n",
       "      <td>0.054650</td>\n",
       "      <td>0.216627</td>\n",
       "      <td>0.093420</td>\n",
       "      <td>0.302226</td>\n",
       "    </tr>\n",
       "    <tr>\n",
       "      <th>min</th>\n",
       "      <td>0.000000</td>\n",
       "      <td>0.000000</td>\n",
       "      <td>0.000000</td>\n",
       "      <td>0.000000</td>\n",
       "      <td>0.000000</td>\n",
       "      <td>0.000000</td>\n",
       "      <td>0.000000</td>\n",
       "    </tr>\n",
       "    <tr>\n",
       "      <th>25%</th>\n",
       "      <td>0.000000</td>\n",
       "      <td>0.000000</td>\n",
       "      <td>0.000000</td>\n",
       "      <td>0.000000</td>\n",
       "      <td>0.000000</td>\n",
       "      <td>0.000000</td>\n",
       "      <td>1.000000</td>\n",
       "    </tr>\n",
       "    <tr>\n",
       "      <th>50%</th>\n",
       "      <td>0.000000</td>\n",
       "      <td>0.000000</td>\n",
       "      <td>0.000000</td>\n",
       "      <td>0.000000</td>\n",
       "      <td>0.000000</td>\n",
       "      <td>0.000000</td>\n",
       "      <td>1.000000</td>\n",
       "    </tr>\n",
       "    <tr>\n",
       "      <th>75%</th>\n",
       "      <td>0.000000</td>\n",
       "      <td>0.000000</td>\n",
       "      <td>0.000000</td>\n",
       "      <td>0.000000</td>\n",
       "      <td>0.000000</td>\n",
       "      <td>0.000000</td>\n",
       "      <td>1.000000</td>\n",
       "    </tr>\n",
       "    <tr>\n",
       "      <th>max</th>\n",
       "      <td>1.000000</td>\n",
       "      <td>1.000000</td>\n",
       "      <td>1.000000</td>\n",
       "      <td>1.000000</td>\n",
       "      <td>1.000000</td>\n",
       "      <td>1.000000</td>\n",
       "      <td>1.000000</td>\n",
       "    </tr>\n",
       "  </tbody>\n",
       "</table>\n",
       "</div>"
      ],
      "text/plain": [
       "               toxic   severe_toxic        obscene         threat  \\\n",
       "count  159571.000000  159571.000000  159571.000000  159571.000000   \n",
       "mean        0.095844       0.009996       0.052948       0.002996   \n",
       "std         0.294379       0.099477       0.223931       0.054650   \n",
       "min         0.000000       0.000000       0.000000       0.000000   \n",
       "25%         0.000000       0.000000       0.000000       0.000000   \n",
       "50%         0.000000       0.000000       0.000000       0.000000   \n",
       "75%         0.000000       0.000000       0.000000       0.000000   \n",
       "max         1.000000       1.000000       1.000000       1.000000   \n",
       "\n",
       "              insult  identity_hate           none  \n",
       "count  159571.000000  159571.000000  159571.000000  \n",
       "mean        0.049364       0.008805       0.898321  \n",
       "std         0.216627       0.093420       0.302226  \n",
       "min         0.000000       0.000000       0.000000  \n",
       "25%         0.000000       0.000000       1.000000  \n",
       "50%         0.000000       0.000000       1.000000  \n",
       "75%         0.000000       0.000000       1.000000  \n",
       "max         1.000000       1.000000       1.000000  "
      ]
     },
     "execution_count": 38,
     "metadata": {},
     "output_type": "execute_result"
    }
   ],
   "source": [
    "toxicity_types = ['toxic', 'severe_toxic', 'obscene', 'threat', 'insult', 'identity_hate']\n",
    "train_df['none'] = 1-train_df[toxicity_types].max(axis=1)\n",
    "train_df.describe()"
   ]
  },
  {
   "cell_type": "code",
   "execution_count": 39,
   "metadata": {},
   "outputs": [
    {
     "data": {
      "text/plain": [
       "(159571, 9)"
      ]
     },
     "execution_count": 39,
     "metadata": {},
     "output_type": "execute_result"
    }
   ],
   "source": [
    "train_df.shape"
   ]
  },
  {
   "cell_type": "markdown",
   "metadata": {},
   "source": [
    "since we have done EDA in 03_toxic_comment_eda.ipynb we will directly build the model"
   ]
  },
  {
   "cell_type": "markdown",
   "metadata": {},
   "source": [
    "### Count Vectorizer + Naive Bayes Approach"
   ]
  },
  {
   "cell_type": "code",
   "execution_count": 40,
   "metadata": {},
   "outputs": [],
   "source": [
    "from sklearn.feature_extraction.text import CountVectorizer\n",
    "from sklearn.naive_bayes import MultinomialNB"
   ]
  },
  {
   "cell_type": "code",
   "execution_count": 41,
   "metadata": {},
   "outputs": [],
   "source": [
    "def tokenize(text):\n",
    "    text = re.sub(f\"[{string.punctuation}]\", \"\", text.lower())\n",
    "    return text.split()\n",
    "\n",
    "train_data, test_data = train_test_split(train_df, test_size=0.2, random_state=42)"
   ]
  },
  {
   "cell_type": "code",
   "execution_count": 42,
   "metadata": {},
   "outputs": [
    {
     "name": "stderr",
     "output_type": "stream",
     "text": [
      "d:\\IIT-J\\2nd year\\ML with big data\\Project\\youtube_comment_analysis\\yca-venv\\lib\\site-packages\\sklearn\\feature_extraction\\text.py:517: UserWarning: The parameter 'token_pattern' will not be used since 'tokenizer' is not None'\n",
      "  warnings.warn(\n"
     ]
    }
   ],
   "source": [
    "# Count Vectorizer\n",
    "count_vectorizer = CountVectorizer(tokenizer=tokenize, ngram_range=(1, 2), min_df=3)\n",
    "train_count = count_vectorizer.fit_transform(train_data['comment_text'])\n",
    "test_count = count_vectorizer.transform(test_data['comment_text'])"
   ]
  },
  {
   "cell_type": "code",
   "execution_count": 43,
   "metadata": {},
   "outputs": [
    {
     "name": "stdout",
     "output_type": "stream",
     "text": [
      "1st Approach (Count Vectorizer + Naive Bayes) Results: {'toxic': {'accuracy': 0.9362995456681811, 'f1': 0.6895709268590624, 'precision': 0.6464357286000573, 'recall': 0.7388743455497382}, 'severe_toxic': {'accuracy': 0.9853987153376156, 'f1': 0.44258373205741625, 'precision': 0.3592233009708738, 'recall': 0.5763239875389408}, 'obscene': {'accuracy': 0.9610527964906783, 'f1': 0.6657703683785964, 'precision': 0.6177644710578842, 'recall': 0.721865889212828}, 'threat': {'accuracy': 0.996960676797744, 'f1': 0.18487394957983194, 'precision': 0.24444444444444444, 'recall': 0.14864864864864866}, 'insult': {'accuracy': 0.9584208052639824, 'f1': 0.6237595690388432, 'precision': 0.575013068478829, 'recall': 0.6815365551425031}, 'identity_hate': {'accuracy': 0.9871533761554128, 'f1': 0.23220973782771537, 'precision': 0.25833333333333336, 'recall': 0.2108843537414966}}\n"
     ]
    }
   ],
   "source": [
    "# Naive Bayes classifier for each class\n",
    "nb_model = MultinomialNB()\n",
    "metrics_nb = {}\n",
    "\n",
    "for label in toxicity_types:\n",
    "    nb_model.fit(train_count, train_data[label])\n",
    "    preds = nb_model.predict(test_count)\n",
    "    metrics_nb[label] = {\n",
    "        'accuracy': accuracy_score(test_data[label], preds),\n",
    "        'f1': f1_score(test_data[label], preds),\n",
    "        'precision': precision_score(test_data[label], preds),\n",
    "        'recall': recall_score(test_data[label], preds)\n",
    "    }\n",
    "\n",
    "print(\"1st Approach (Count Vectorizer + Naive Bayes) Results:\", metrics_nb)"
   ]
  },
  {
   "cell_type": "code",
   "execution_count": 44,
   "metadata": {},
   "outputs": [
    {
     "data": {
      "text/html": [
       "<div>\n",
       "<style scoped>\n",
       "    .dataframe tbody tr th:only-of-type {\n",
       "        vertical-align: middle;\n",
       "    }\n",
       "\n",
       "    .dataframe tbody tr th {\n",
       "        vertical-align: top;\n",
       "    }\n",
       "\n",
       "    .dataframe thead th {\n",
       "        text-align: right;\n",
       "    }\n",
       "</style>\n",
       "<table border=\"1\" class=\"dataframe\">\n",
       "  <thead>\n",
       "    <tr style=\"text-align: right;\">\n",
       "      <th></th>\n",
       "      <th>Class</th>\n",
       "      <th>Accuracy</th>\n",
       "      <th>F1 Score</th>\n",
       "      <th>Precision</th>\n",
       "      <th>Recall</th>\n",
       "    </tr>\n",
       "  </thead>\n",
       "  <tbody>\n",
       "    <tr>\n",
       "      <th>0</th>\n",
       "      <td>toxic</td>\n",
       "      <td>0.936300</td>\n",
       "      <td>0.689571</td>\n",
       "      <td>0.646436</td>\n",
       "      <td>0.738874</td>\n",
       "    </tr>\n",
       "    <tr>\n",
       "      <th>1</th>\n",
       "      <td>severe_toxic</td>\n",
       "      <td>0.985399</td>\n",
       "      <td>0.442584</td>\n",
       "      <td>0.359223</td>\n",
       "      <td>0.576324</td>\n",
       "    </tr>\n",
       "    <tr>\n",
       "      <th>2</th>\n",
       "      <td>obscene</td>\n",
       "      <td>0.961053</td>\n",
       "      <td>0.665770</td>\n",
       "      <td>0.617764</td>\n",
       "      <td>0.721866</td>\n",
       "    </tr>\n",
       "    <tr>\n",
       "      <th>3</th>\n",
       "      <td>threat</td>\n",
       "      <td>0.996961</td>\n",
       "      <td>0.184874</td>\n",
       "      <td>0.244444</td>\n",
       "      <td>0.148649</td>\n",
       "    </tr>\n",
       "    <tr>\n",
       "      <th>4</th>\n",
       "      <td>insult</td>\n",
       "      <td>0.958421</td>\n",
       "      <td>0.623760</td>\n",
       "      <td>0.575013</td>\n",
       "      <td>0.681537</td>\n",
       "    </tr>\n",
       "    <tr>\n",
       "      <th>5</th>\n",
       "      <td>identity_hate</td>\n",
       "      <td>0.987153</td>\n",
       "      <td>0.232210</td>\n",
       "      <td>0.258333</td>\n",
       "      <td>0.210884</td>\n",
       "    </tr>\n",
       "  </tbody>\n",
       "</table>\n",
       "</div>"
      ],
      "text/plain": [
       "           Class  Accuracy  F1 Score  Precision    Recall\n",
       "0          toxic  0.936300  0.689571   0.646436  0.738874\n",
       "1   severe_toxic  0.985399  0.442584   0.359223  0.576324\n",
       "2        obscene  0.961053  0.665770   0.617764  0.721866\n",
       "3         threat  0.996961  0.184874   0.244444  0.148649\n",
       "4         insult  0.958421  0.623760   0.575013  0.681537\n",
       "5  identity_hate  0.987153  0.232210   0.258333  0.210884"
      ]
     },
     "execution_count": 44,
     "metadata": {},
     "output_type": "execute_result"
    }
   ],
   "source": [
    "data = []\n",
    "\n",
    "# Collect data for each label from the metrics\n",
    "for label in toxicity_types:\n",
    "    data.append({\n",
    "        'Class': label,\n",
    "        'Accuracy': metrics_nb[label]['accuracy'],\n",
    "        'F1 Score': metrics_nb[label]['f1'],\n",
    "        'Precision': metrics_nb[label]['precision'],\n",
    "        'Recall': metrics_nb[label]['recall'],\n",
    "    })\n",
    "\n",
    "# Create the DataFrame\n",
    "metrics_df_nb = pd.DataFrame(data)\n",
    "\n",
    "# Display the DataFrame\n",
    "metrics_df_nb"
   ]
  },
  {
   "cell_type": "markdown",
   "metadata": {},
   "source": [
    "### TF-IDF + Logistic Regression Approach"
   ]
  },
  {
   "cell_type": "code",
   "execution_count": 45,
   "metadata": {},
   "outputs": [],
   "source": [
    "from sklearn.feature_extraction.text import TfidfVectorizer\n",
    "from sklearn.linear_model import LogisticRegression"
   ]
  },
  {
   "cell_type": "code",
   "execution_count": 46,
   "metadata": {},
   "outputs": [
    {
     "name": "stderr",
     "output_type": "stream",
     "text": [
      "d:\\IIT-J\\2nd year\\ML with big data\\Project\\youtube_comment_analysis\\yca-venv\\lib\\site-packages\\sklearn\\feature_extraction\\text.py:517: UserWarning: The parameter 'token_pattern' will not be used since 'tokenizer' is not None'\n",
      "  warnings.warn(\n"
     ]
    }
   ],
   "source": [
    "# Vectorization using TF-IDF\n",
    "tfidf_vectorizer = TfidfVectorizer(tokenizer=tokenize, ngram_range=(1, 2), min_df=3, max_df=0.9)\n",
    "train_tfidf = tfidf_vectorizer.fit_transform(train_data['comment_text'])\n",
    "test_tfidf = tfidf_vectorizer.transform(test_data['comment_text'])"
   ]
  },
  {
   "cell_type": "code",
   "execution_count": 47,
   "metadata": {},
   "outputs": [
    {
     "name": "stdout",
     "output_type": "stream",
     "text": [
      "2nd Approach (TF-IDF + Logistic Regression) Results: {'toxic': {'accuracy': 0.9535014883283722, 'f1': 0.6956521739130435, 'precision': 0.9318681318681319, 'recall': 0.5549738219895288}, 'severe_toxic': {'accuracy': 0.9904433651887827, 'f1': 0.2823529411764706, 'precision': 0.5769230769230769, 'recall': 0.18691588785046728}, 'obscene': {'accuracy': 0.9734294219019269, 'f1': 0.6886930983847284, 'precision': 0.929633300297324, 'recall': 0.5469387755102041}, 'threat': {'accuracy': 0.9978693404355319, 'f1': 0.20930232558139536, 'precision': 0.75, 'recall': 0.12162162162162163}, 'insult': {'accuracy': 0.9692934356885478, 'f1': 0.608, 'precision': 0.8577878103837472, 'recall': 0.4708798017348203}, 'identity_hate': {'accuracy': 0.9916026946576845, 'f1': 0.21176470588235294, 'precision': 0.782608695652174, 'recall': 0.12244897959183673}}\n"
     ]
    }
   ],
   "source": [
    "# Logistic Regression classifier for each class\n",
    "lr_model = LogisticRegression(max_iter=1000)\n",
    "metrics_lr = {}\n",
    "lr_models = {}\n",
    "\n",
    "# Use train_data to fit the model\n",
    "for label in toxicity_types:\n",
    "    lr_model.fit(train_tfidf, train_data[label])  # Corrected to use train_data\n",
    "    preds = lr_model.predict(test_tfidf)\n",
    "    metrics_lr[label] = {\n",
    "        'accuracy': accuracy_score(test_data[label], preds),\n",
    "        'f1': f1_score(test_data[label], preds),\n",
    "        'precision': precision_score(test_data[label], preds),\n",
    "        'recall': recall_score(test_data[label], preds)\n",
    "    }\n",
    "    lr_models[label] = lr_model\n",
    "print(\"2nd Approach (TF-IDF + Logistic Regression) Results:\", metrics_lr)"
   ]
  },
  {
   "cell_type": "code",
   "execution_count": 48,
   "metadata": {},
   "outputs": [
    {
     "data": {
      "text/html": [
       "<div>\n",
       "<style scoped>\n",
       "    .dataframe tbody tr th:only-of-type {\n",
       "        vertical-align: middle;\n",
       "    }\n",
       "\n",
       "    .dataframe tbody tr th {\n",
       "        vertical-align: top;\n",
       "    }\n",
       "\n",
       "    .dataframe thead th {\n",
       "        text-align: right;\n",
       "    }\n",
       "</style>\n",
       "<table border=\"1\" class=\"dataframe\">\n",
       "  <thead>\n",
       "    <tr style=\"text-align: right;\">\n",
       "      <th></th>\n",
       "      <th>Class</th>\n",
       "      <th>Accuracy</th>\n",
       "      <th>F1 Score</th>\n",
       "      <th>Precision</th>\n",
       "      <th>Recall</th>\n",
       "    </tr>\n",
       "  </thead>\n",
       "  <tbody>\n",
       "    <tr>\n",
       "      <th>0</th>\n",
       "      <td>toxic</td>\n",
       "      <td>0.953501</td>\n",
       "      <td>0.695652</td>\n",
       "      <td>0.931868</td>\n",
       "      <td>0.554974</td>\n",
       "    </tr>\n",
       "    <tr>\n",
       "      <th>1</th>\n",
       "      <td>severe_toxic</td>\n",
       "      <td>0.990443</td>\n",
       "      <td>0.282353</td>\n",
       "      <td>0.576923</td>\n",
       "      <td>0.186916</td>\n",
       "    </tr>\n",
       "    <tr>\n",
       "      <th>2</th>\n",
       "      <td>obscene</td>\n",
       "      <td>0.973429</td>\n",
       "      <td>0.688693</td>\n",
       "      <td>0.929633</td>\n",
       "      <td>0.546939</td>\n",
       "    </tr>\n",
       "    <tr>\n",
       "      <th>3</th>\n",
       "      <td>threat</td>\n",
       "      <td>0.997869</td>\n",
       "      <td>0.209302</td>\n",
       "      <td>0.750000</td>\n",
       "      <td>0.121622</td>\n",
       "    </tr>\n",
       "    <tr>\n",
       "      <th>4</th>\n",
       "      <td>insult</td>\n",
       "      <td>0.969293</td>\n",
       "      <td>0.608000</td>\n",
       "      <td>0.857788</td>\n",
       "      <td>0.470880</td>\n",
       "    </tr>\n",
       "    <tr>\n",
       "      <th>5</th>\n",
       "      <td>identity_hate</td>\n",
       "      <td>0.991603</td>\n",
       "      <td>0.211765</td>\n",
       "      <td>0.782609</td>\n",
       "      <td>0.122449</td>\n",
       "    </tr>\n",
       "  </tbody>\n",
       "</table>\n",
       "</div>"
      ],
      "text/plain": [
       "           Class  Accuracy  F1 Score  Precision    Recall\n",
       "0          toxic  0.953501  0.695652   0.931868  0.554974\n",
       "1   severe_toxic  0.990443  0.282353   0.576923  0.186916\n",
       "2        obscene  0.973429  0.688693   0.929633  0.546939\n",
       "3         threat  0.997869  0.209302   0.750000  0.121622\n",
       "4         insult  0.969293  0.608000   0.857788  0.470880\n",
       "5  identity_hate  0.991603  0.211765   0.782609  0.122449"
      ]
     },
     "execution_count": 48,
     "metadata": {},
     "output_type": "execute_result"
    }
   ],
   "source": [
    "data = []\n",
    "\n",
    "# Collect data for each label from the metrics\n",
    "for label in toxicity_types:\n",
    "    data.append({\n",
    "        'Class': label,\n",
    "        'Accuracy': metrics_lr[label]['accuracy'],\n",
    "        'F1 Score': metrics_lr[label]['f1'],\n",
    "        'Precision': metrics_lr[label]['precision'],\n",
    "        'Recall': metrics_lr[label]['recall'],\n",
    "    })\n",
    "\n",
    "# Create the DataFrame\n",
    "metrics_df_lr = pd.DataFrame(data)\n",
    "\n",
    "# Display the DataFrame\n",
    "metrics_df_lr"
   ]
  },
  {
   "cell_type": "markdown",
   "metadata": {},
   "source": [
    "### Word Embeddings (GloVe) + LSTM Approach"
   ]
  },
  {
   "cell_type": "code",
   "execution_count": 49,
   "metadata": {},
   "outputs": [],
   "source": [
    "from tensorflow import keras\n",
    "import tensorflow as tf\n",
    "from tensorflow.keras.preprocessing.text import Tokenizer\n",
    "from tensorflow.keras.preprocessing.sequence import pad_sequences\n",
    "from tensorflow.keras.models import Sequential\n",
    "from tensorflow.keras.layers import Embedding, LSTM, Dense, Dropout\n"
   ]
  },
  {
   "cell_type": "code",
   "execution_count": 50,
   "metadata": {},
   "outputs": [],
   "source": [
    "# Tokenization using Keras Tokenizer\n",
    "tokenizer = Tokenizer(num_words=20000)  # Limit vocabulary size\n",
    "tokenizer.fit_on_texts(train_data['comment_text'])\n",
    "train_sequences = tokenizer.texts_to_sequences(train_data['comment_text'])\n",
    "test_sequences = tokenizer.texts_to_sequences(test_data['comment_text'])"
   ]
  },
  {
   "cell_type": "code",
   "execution_count": 51,
   "metadata": {},
   "outputs": [],
   "source": [
    "# Padding sequences to ensure same length\n",
    "max_seq_len = 100\n",
    "train_padded = pad_sequences(train_sequences, maxlen=max_seq_len)\n",
    "test_padded = pad_sequences(test_sequences, maxlen=max_seq_len)"
   ]
  },
  {
   "cell_type": "code",
   "execution_count": 52,
   "metadata": {},
   "outputs": [],
   "source": [
    "# Load GloVe embeddings (GloVe embeddings are pre-downloaded)\n",
    "embedding_index = {}\n",
    "\n",
    "with open(\"../datasets/glove.6B.100d.txt\", encoding=\"utf-8\") as f:\n",
    "    for line in f:\n",
    "        values = line.split()\n",
    "        word = values[0]\n",
    "        coefs = np.asarray(values[1:], dtype='float32')\n",
    "        embedding_index[word] = coefs"
   ]
  },
  {
   "cell_type": "code",
   "execution_count": 53,
   "metadata": {},
   "outputs": [],
   "source": [
    "# Prepare embedding matrix\n",
    "embedding_dim = 100\n",
    "word_index = tokenizer.word_index\n",
    "embedding_matrix = np.zeros((len(word_index) + 1, embedding_dim))\n",
    "\n",
    "for word, i in word_index.items():\n",
    "    embedding_vector = embedding_index.get(word)\n",
    "    if embedding_vector is not None:\n",
    "        embedding_matrix[i] = embedding_vector"
   ]
  },
  {
   "cell_type": "code",
   "execution_count": 54,
   "metadata": {},
   "outputs": [],
   "source": [
    "# LSTM Model\n",
    "def build_lstm_model():\n",
    "    model = Sequential([\n",
    "        Embedding(len(word_index) + 1, embedding_dim, weights=[embedding_matrix], input_length=max_seq_len, trainable=False),\n",
    "        LSTM(64, return_sequences=False),\n",
    "        Dropout(0.5),\n",
    "        Dense(6, activation='sigmoid')  # 6 output neurons for multi-label classification\n",
    "    ])\n",
    "    model.compile(optimizer='adam', loss='binary_crossentropy', metrics=['accuracy'])\n",
    "    return model"
   ]
  },
  {
   "cell_type": "code",
   "execution_count": 55,
   "metadata": {},
   "outputs": [
    {
     "name": "stderr",
     "output_type": "stream",
     "text": [
      "d:\\IIT-J\\2nd year\\ML with big data\\Project\\youtube_comment_analysis\\yca-venv\\lib\\site-packages\\keras\\src\\layers\\core\\embedding.py:90: UserWarning: Argument `input_length` is deprecated. Just remove it.\n",
      "  warnings.warn(\n"
     ]
    },
    {
     "name": "stdout",
     "output_type": "stream",
     "text": [
      "Epoch 1/3\n",
      "\u001b[1m898/898\u001b[0m \u001b[32m━━━━━━━━━━━━━━━━━━━━\u001b[0m\u001b[37m\u001b[0m \u001b[1m112s\u001b[0m 119ms/step - accuracy: 0.5267 - loss: 0.1442 - val_accuracy: 0.9930 - val_loss: 0.0631\n",
      "Epoch 2/3\n",
      "\u001b[1m898/898\u001b[0m \u001b[32m━━━━━━━━━━━━━━━━━━━━\u001b[0m\u001b[37m\u001b[0m \u001b[1m93s\u001b[0m 104ms/step - accuracy: 0.8777 - loss: 0.0634 - val_accuracy: 0.9939 - val_loss: 0.0586\n",
      "Epoch 3/3\n",
      "\u001b[1m898/898\u001b[0m \u001b[32m━━━━━━━━━━━━━━━━━━━━\u001b[0m\u001b[37m\u001b[0m \u001b[1m146s\u001b[0m 107ms/step - accuracy: 0.9428 - loss: 0.0588 - val_accuracy: 0.9939 - val_loss: 0.0570\n"
     ]
    },
    {
     "data": {
      "text/plain": [
       "<keras.src.callbacks.history.History at 0x1a02932f370>"
      ]
     },
     "execution_count": 55,
     "metadata": {},
     "output_type": "execute_result"
    }
   ],
   "source": [
    "# Build and train the LSTM model\n",
    "lstm_model = build_lstm_model()\n",
    "lstm_model.fit(train_padded, train_data[toxicity_types].values, epochs=3, batch_size=128, validation_split=0.1)"
   ]
  },
  {
   "cell_type": "code",
   "execution_count": 56,
   "metadata": {},
   "outputs": [
    {
     "name": "stdout",
     "output_type": "stream",
     "text": [
      "\u001b[1m998/998\u001b[0m \u001b[32m━━━━━━━━━━━━━━━━━━━━\u001b[0m\u001b[37m\u001b[0m \u001b[1m23s\u001b[0m 22ms/step\n",
      "3rd Approach (Word Embeddings + LSTM) Results: {'toxic': {'accuracy': 0.95729280902397, 'f1': 0.7421002838221381, 'precision': 0.879766711529834, 'recall': 0.6416884816753927}, 'severe_toxic': {'accuracy': 0.9902553658154473, 'f1': 0.07164179104477612, 'precision': 0.8571428571428571, 'recall': 0.037383177570093455}, 'obscene': {'accuracy': 0.9765627447908507, 'f1': 0.7555555555555555, 'precision': 0.8594795539033457, 'recall': 0.6740524781341107}, 'threat': {'accuracy': 0.9976813410621964, 'f1': 0.0, 'precision': 0.0, 'recall': 0.0}, 'insult': {'accuracy': 0.9691681027729907, 'f1': 0.6500711237553343, 'precision': 0.7629382303839732, 'recall': 0.5662949194547707}, 'identity_hate': {'accuracy': 0.990882030393232, 'f1': 0.026755852842809364, 'precision': 0.8, 'recall': 0.013605442176870748}}\n"
     ]
    },
    {
     "name": "stderr",
     "output_type": "stream",
     "text": [
      "d:\\IIT-J\\2nd year\\ML with big data\\Project\\youtube_comment_analysis\\yca-venv\\lib\\site-packages\\sklearn\\metrics\\_classification.py:1565: UndefinedMetricWarning: Precision is ill-defined and being set to 0.0 due to no predicted samples. Use `zero_division` parameter to control this behavior.\n",
      "  _warn_prf(average, modifier, f\"{metric.capitalize()} is\", len(result))\n"
     ]
    }
   ],
   "source": [
    "# Evaluate on test data\n",
    "lstm_preds = lstm_model.predict(test_padded)\n",
    "metrics_lstm = {}\n",
    "\n",
    "for i, label in enumerate(toxicity_types):\n",
    "    lstm_bin_preds = (lstm_preds[:, i] > 0.5).astype(int)\n",
    "    metrics_lstm[label] = {\n",
    "        'accuracy': accuracy_score(test_data[label], lstm_bin_preds),\n",
    "        'f1': f1_score(test_data[label], lstm_bin_preds),\n",
    "        'precision': precision_score(test_data[label], lstm_bin_preds),\n",
    "        'recall': recall_score(test_data[label], lstm_bin_preds)\n",
    "    }\n",
    "\n",
    "print(\"3rd Approach (Word Embeddings + LSTM) Results:\", metrics_lstm)"
   ]
  },
  {
   "cell_type": "code",
   "execution_count": 57,
   "metadata": {},
   "outputs": [
    {
     "data": {
      "text/html": [
       "<div>\n",
       "<style scoped>\n",
       "    .dataframe tbody tr th:only-of-type {\n",
       "        vertical-align: middle;\n",
       "    }\n",
       "\n",
       "    .dataframe tbody tr th {\n",
       "        vertical-align: top;\n",
       "    }\n",
       "\n",
       "    .dataframe thead th {\n",
       "        text-align: right;\n",
       "    }\n",
       "</style>\n",
       "<table border=\"1\" class=\"dataframe\">\n",
       "  <thead>\n",
       "    <tr style=\"text-align: right;\">\n",
       "      <th></th>\n",
       "      <th>Class</th>\n",
       "      <th>Accuracy</th>\n",
       "      <th>F1 Score</th>\n",
       "      <th>Precision</th>\n",
       "      <th>Recall</th>\n",
       "    </tr>\n",
       "  </thead>\n",
       "  <tbody>\n",
       "    <tr>\n",
       "      <th>0</th>\n",
       "      <td>toxic</td>\n",
       "      <td>0.957293</td>\n",
       "      <td>0.742100</td>\n",
       "      <td>0.879767</td>\n",
       "      <td>0.641688</td>\n",
       "    </tr>\n",
       "    <tr>\n",
       "      <th>1</th>\n",
       "      <td>severe_toxic</td>\n",
       "      <td>0.990255</td>\n",
       "      <td>0.071642</td>\n",
       "      <td>0.857143</td>\n",
       "      <td>0.037383</td>\n",
       "    </tr>\n",
       "    <tr>\n",
       "      <th>2</th>\n",
       "      <td>obscene</td>\n",
       "      <td>0.976563</td>\n",
       "      <td>0.755556</td>\n",
       "      <td>0.859480</td>\n",
       "      <td>0.674052</td>\n",
       "    </tr>\n",
       "    <tr>\n",
       "      <th>3</th>\n",
       "      <td>threat</td>\n",
       "      <td>0.997681</td>\n",
       "      <td>0.000000</td>\n",
       "      <td>0.000000</td>\n",
       "      <td>0.000000</td>\n",
       "    </tr>\n",
       "    <tr>\n",
       "      <th>4</th>\n",
       "      <td>insult</td>\n",
       "      <td>0.969168</td>\n",
       "      <td>0.650071</td>\n",
       "      <td>0.762938</td>\n",
       "      <td>0.566295</td>\n",
       "    </tr>\n",
       "    <tr>\n",
       "      <th>5</th>\n",
       "      <td>identity_hate</td>\n",
       "      <td>0.990882</td>\n",
       "      <td>0.026756</td>\n",
       "      <td>0.800000</td>\n",
       "      <td>0.013605</td>\n",
       "    </tr>\n",
       "  </tbody>\n",
       "</table>\n",
       "</div>"
      ],
      "text/plain": [
       "           Class  Accuracy  F1 Score  Precision    Recall\n",
       "0          toxic  0.957293  0.742100   0.879767  0.641688\n",
       "1   severe_toxic  0.990255  0.071642   0.857143  0.037383\n",
       "2        obscene  0.976563  0.755556   0.859480  0.674052\n",
       "3         threat  0.997681  0.000000   0.000000  0.000000\n",
       "4         insult  0.969168  0.650071   0.762938  0.566295\n",
       "5  identity_hate  0.990882  0.026756   0.800000  0.013605"
      ]
     },
     "execution_count": 57,
     "metadata": {},
     "output_type": "execute_result"
    }
   ],
   "source": [
    "data = []\n",
    "\n",
    "# Collect data for each label from the metrics\n",
    "for label in toxicity_types:\n",
    "    data.append({\n",
    "        'Class': label,\n",
    "        'Accuracy': metrics_lstm[label]['accuracy'],\n",
    "        'F1 Score': metrics_lstm[label]['f1'],\n",
    "        'Precision': metrics_lstm[label]['precision'],\n",
    "        'Recall': metrics_lstm[label]['recall'],\n",
    "    })\n",
    "\n",
    "# Create the DataFrame\n",
    "metrics_df_lstm = pd.DataFrame(data)\n",
    "\n",
    "# Display the DataFrame\n",
    "metrics_df_lstm"
   ]
  },
  {
   "cell_type": "markdown",
   "metadata": {},
   "source": [
    "### comparing all the models"
   ]
  },
  {
   "cell_type": "code",
   "execution_count": 58,
   "metadata": {},
   "outputs": [
    {
     "data": {
      "image/png": "[encoded data removed]",
      "text/plain": [
       "<Figure size 1000x600 with 1 Axes>"
      ]
     },
     "metadata": {},
     "output_type": "display_data"
    }
   ],
   "source": [
    "# Extracting average scores from each approach for all metrics\n",
    "approach_metrics = {\n",
    "    'TF-IDF + Logistic Regression': metrics_lr,\n",
    "    'Count Vectorizer + Naive Bayes': metrics_nb,\n",
    "    'Word Embeddings + LSTM': metrics_lstm\n",
    "}\n",
    "\n",
    "# Averaging the metrics across all six labels\n",
    "def average_metrics(metrics_dict):\n",
    "    avg_metrics = {'accuracy': [], 'f1': [], 'precision': [], 'recall': []}\n",
    "    for metric in avg_metrics:\n",
    "        avg_metrics[metric] = np.mean([metrics_dict[label][metric] for label in toxicity_types])\n",
    "    return avg_metrics\n",
    "\n",
    "# Calculate average metrics for each approach\n",
    "avg_metrics_lr = average_metrics(metrics_lr)\n",
    "avg_metrics_nb = average_metrics(metrics_nb)\n",
    "avg_metrics_lstm = average_metrics(metrics_lstm)\n",
    "\n",
    "# Data for bar plot\n",
    "labels = ['accuracy', 'f1', 'precision', 'recall']\n",
    "lr_scores = [avg_metrics_lr[m] for m in labels]\n",
    "nb_scores = [avg_metrics_nb[m] for m in labels]\n",
    "lstm_scores = [avg_metrics_lstm[m] for m in labels]\n",
    "\n",
    "x = np.arange(len(labels))\n",
    "width = 0.2\n",
    "\n",
    "fig, ax = plt.subplots(figsize=(10, 6))\n",
    "ax.bar(x - width, lr_scores, width, label='TF-IDF + Logistic Regression')\n",
    "ax.bar(x, nb_scores, width, label='Count Vectorizer + Naive Bayes')\n",
    "ax.bar(x + width, lstm_scores, width, label='Word Embeddings + LSTM')\n",
    "\n",
    "ax.set_ylabel('Scores')\n",
    "ax.set_title('Comparison of Classification Approaches')\n",
    "ax.set_xticks(x)\n",
    "ax.set_xticklabels(labels)\n",
    "ax.legend()\n",
    "\n",
    "plt.show()"
   ]
  },
  {
   "cell_type": "markdown",
   "metadata": {},
   "source": [
    "### Summary: "
   ]
  },
  {
   "cell_type": "markdown",
   "metadata": {},
   "source": [
    "1. Count Vectorizer + Naive Bayes\n",
    "\n",
    "    Accuracy: Decent (~0.93 to 0.98)\n",
    "\n",
    "    F1 Scores: Moderate (e.g., 0.68 for toxic, 0.44 for severe_toxic, very low for threat)\n",
    "\n",
    "    Recall: Stronger than TF-IDF in some classes (like insult)\n",
    "\n",
    "    But fails badly on threat (F1 = 0.18) and identity_hate (F1 = 0.23)\n",
    "\n",
    "2. TF-IDF + Logistic Regression\n",
    "\n",
    "    Highest accuracy across most classes (esp. threat, insult, identity_hate)\n",
    "\n",
    "    High precision (esp. toxic, obscene, threat, insult)\n",
    "\n",
    "    Weak recall on multiple classes (threat, severe_toxic, identity_hate)\n",
    "\n",
    "    Lower F1 score on some classes due to imbalance between precision & recall\n",
    "\n",
    "3. Word Embeddings + LSTM\n",
    "\n",
    "    Best F1 scores overall (especially toxic, obscene, insult)\n",
    "\n",
    "    Balanced precision and recall for key labels\n",
    "\n",
    "    However, completely fails on threat and identity_hate (F1 = 0), indicating class imbalance issues or model underfitting those classes"
   ]
  },
  {
   "cell_type": "code",
   "execution_count": 59,
   "metadata": {},
   "outputs": [
    {
     "ename": "NameError",
     "evalue": "name 'label_cols' is not defined",
     "output_type": "error",
     "traceback": [
      "\u001b[1;31m---------------------------------------------------------------------------\u001b[0m",
      "\u001b[1;31mNameError\u001b[0m                                 Traceback (most recent call last)",
      "Cell \u001b[1;32mIn[59], line 5\u001b[0m\n\u001b[0;32m      2\u001b[0m data \u001b[38;5;241m=\u001b[39m []\n\u001b[0;32m      4\u001b[0m \u001b[38;5;66;03m# Collect data for each class from all models\u001b[39;00m\n\u001b[1;32m----> 5\u001b[0m \u001b[38;5;28;01mfor\u001b[39;00m class_label \u001b[38;5;129;01min\u001b[39;00m \u001b[43mlabel_cols\u001b[49m:\n\u001b[0;32m      6\u001b[0m     data\u001b[38;5;241m.\u001b[39mappend({\n\u001b[0;32m      7\u001b[0m         \u001b[38;5;124m'\u001b[39m\u001b[38;5;124mClass\u001b[39m\u001b[38;5;124m'\u001b[39m: class_label,\n\u001b[0;32m      8\u001b[0m         \u001b[38;5;124m'\u001b[39m\u001b[38;5;124mTF-IDF + Logistic Regression Accuracy\u001b[39m\u001b[38;5;124m'\u001b[39m: metrics_lr[class_label][\u001b[38;5;124m'\u001b[39m\u001b[38;5;124maccuracy\u001b[39m\u001b[38;5;124m'\u001b[39m],\n\u001b[1;32m   (...)\u001b[0m\n\u001b[0;32m     19\u001b[0m         \u001b[38;5;124m'\u001b[39m\u001b[38;5;124mWord Embeddings + LSTM Recall\u001b[39m\u001b[38;5;124m'\u001b[39m: metrics_lstm[class_label][\u001b[38;5;124m'\u001b[39m\u001b[38;5;124mrecall\u001b[39m\u001b[38;5;124m'\u001b[39m],\n\u001b[0;32m     20\u001b[0m     })\n\u001b[0;32m     22\u001b[0m \u001b[38;5;66;03m# Create the DataFrame\u001b[39;00m\n",
      "\u001b[1;31mNameError\u001b[0m: name 'label_cols' is not defined"
     ]
    }
   ],
   "source": [
    "# Create a list to hold the data for the DataFrame\n",
    "data = []\n",
    "\n",
    "# Collect data for each class from all models\n",
    "for class_label in label_cols:\n",
    "    data.append({\n",
    "        'Class': class_label,\n",
    "        'TF-IDF + Logistic Regression Accuracy': metrics_lr[class_label]['accuracy'],\n",
    "        'TF-IDF + Logistic Regression F1 Score': metrics_lr[class_label]['f1'],\n",
    "        'TF-IDF + Logistic Regression Precision': metrics_lr[class_label]['precision'],\n",
    "        'TF-IDF + Logistic Regression Recall': metrics_lr[class_label]['recall'],\n",
    "        'Count Vectorizer + Naive Bayes Accuracy': metrics_nb[class_label]['accuracy'],\n",
    "        'Count Vectorizer + Naive Bayes F1 Score': metrics_nb[class_label]['f1'],\n",
    "        'Count Vectorizer + Naive Bayes Precision': metrics_nb[class_label]['precision'],\n",
    "        'Count Vectorizer + Naive Bayes Recall': metrics_nb[class_label]['recall'],\n",
    "        'Word Embeddings + LSTM Accuracy': metrics_lstm[class_label]['accuracy'],\n",
    "        'Word Embeddings + LSTM F1 Score': metrics_lstm[class_label]['f1'],\n",
    "        'Word Embeddings + LSTM Precision': metrics_lstm[class_label]['precision'],\n",
    "        'Word Embeddings + LSTM Recall': metrics_lstm[class_label]['recall'],\n",
    "    })\n",
    "\n",
    "# Create the DataFrame\n",
    "metrics_df = pd.DataFrame(data)\n",
    "\n",
    "metrics_df_rotated = metrics_df.T\n",
    "\n",
    "# Display the rotated DataFrame\n",
    "metrics_df_rotated"
   ]
  },
  {
   "cell_type": "markdown",
   "metadata": {},
   "source": [
    "#### Conclusion:\n",
    "By looking at the above summary we will use the TF-IDF + Logistic Regression model"
   ]
  },
  {
   "cell_type": "markdown",
   "metadata": {},
   "source": [
    "### Saving the Model"
   ]
  },
  {
   "cell_type": "code",
   "execution_count": null,
   "metadata": {},
   "outputs": [],
   "source": [
    "import pickle"
   ]
  },
  {
   "cell_type": "code",
   "execution_count": null,
   "metadata": {},
   "outputs": [],
   "source": [
    "# Save the TF-IDF vectorizer\n",
    "with open('../models/tfidf_vectorizer.pkl', 'wb') as f:\n",
    "    pickle.dump(tfidf_vectorizer, f)\n",
    "\n",
    "# Save the Logistic Regression models\n",
    "with open('../models/lr_models.pkl', 'wb') as f:\n",
    "    pickle.dump(lr_models, f)"
   ]
  },
  {
   "cell_type": "code",
   "execution_count": null,
   "metadata": {},
   "outputs": [
    {
     "name": "stdout",
     "output_type": "stream",
     "text": [
      "\n",
      "Verifying models...\n",
      "\n",
      "Predictions for sample text:\n",
      "toxic: 0\n",
      "severe_toxic: 0\n",
      "obscene: 0\n",
      "threat: 0\n",
      "insult: 0\n",
      "identity_hate: 0\n"
     ]
    }
   ],
   "source": [
    "# 5. Verification step\n",
    "print(\"\\nVerifying models...\")\n",
    "# Test prediction on a sample\n",
    "sample_text = test_data['comment_text'].iloc[0]\n",
    "sample_tfidf = tfidf_vectorizer.transform([sample_text])\n",
    "print(\"\\nPredictions for sample text:\")\n",
    "for label in toxicity_types:\n",
    "    pred = lr_models[label].predict(sample_tfidf)[0]\n",
    "    print(f\"{label}: {pred}\")"
   ]
  },
  {
   "cell_type": "code",
   "execution_count": null,
   "metadata": {},
   "outputs": [],
   "source": []
  }
 ],
 "metadata": {
  "kernelspec": {
   "display_name": "yca-venv",
   "language": "python",
   "name": "python3"
  },
  "language_info": {
   "codemirror_mode": {
    "name": "ipython",
    "version": 3
   },
   "file_extension": ".py",
   "mimetype": "text/x-python",
   "name": "python",
   "nbconvert_exporter": "python",
   "pygments_lexer": "ipython3",
   "version": "3.10.9"
  }
 },
 "nbformat": 4,
 "nbformat_minor": 2
}
